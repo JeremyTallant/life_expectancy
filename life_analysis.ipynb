{
 "cells": [
  {
   "cell_type": "markdown",
   "metadata": {
    "dc": {
     "key": "4"
    },
    "deletable": false,
    "editable": false,
    "run_control": {
     "frozen": true
    },
    "tags": [
     "context"
    ]
   },
   "source": [
    "## 1. United Nations life expectancy data\n",
    "<p>Life expectancy at birth is a measure of the average a living being is expected to live. It takes into account several demographic factors like gender, country, or year of birth.</p>\n",
    "<p>Life expectancy at birth can vary along time or between countries because of many causes: the evolution of medicine, the degree of development of countries, or the effect of armed conflicts. Life expectancy varies between gender, as well. The data shows that women live longer that men. Why? Several potential factors, including biological reasons and the theory that women tend to be more health conscious.</p>\n",
    "<p>Let's create some plots to explore the inequalities about life expectancy at birth around the world. We will use a dataset from the United Nations Statistics Division, which is available <a href=\"http://data.un.org/Data.aspx?d=GenderStat&f=inID:37&c=1,2,3,4,5,6&s=crEngName:asc,sgvEngName:asc,timeEngName:desc&v=1\">here</a>.</p>"
   ]
  },
  {
   "cell_type": "code",
   "execution_count": 2,
   "metadata": {
    "dc": {
     "key": "4"
    },
    "tags": [
     "sample_code"
    ]
   },
   "outputs": [
    {
     "data": {
      "text/html": [
       "<table class=\"dataframe\">\n",
       "<caption>A data.frame: 6 × 7</caption>\n",
       "<thead>\n",
       "\t<tr><th></th><th scope=col>Country.or.Area</th><th scope=col>Subgroup</th><th scope=col>Year</th><th scope=col>Source</th><th scope=col>Unit</th><th scope=col>Value</th><th scope=col>Value.Footnotes</th></tr>\n",
       "\t<tr><th></th><th scope=col>&lt;chr&gt;</th><th scope=col>&lt;chr&gt;</th><th scope=col>&lt;chr&gt;</th><th scope=col>&lt;chr&gt;</th><th scope=col>&lt;chr&gt;</th><th scope=col>&lt;int&gt;</th><th scope=col>&lt;int&gt;</th></tr>\n",
       "</thead>\n",
       "<tbody>\n",
       "\t<tr><th scope=row>1</th><td>Afghanistan</td><td>Female</td><td>2000-2005</td><td>UNPD_World Population Prospects_2006 (International estimate)</td><td>Years</td><td>42</td><td>NA</td></tr>\n",
       "\t<tr><th scope=row>2</th><td>Afghanistan</td><td>Female</td><td>1995-2000</td><td>UNPD_World Population Prospects_2006 (International estimate)</td><td>Years</td><td>42</td><td>NA</td></tr>\n",
       "\t<tr><th scope=row>3</th><td>Afghanistan</td><td>Female</td><td>1990-1995</td><td>UNPD_World Population Prospects_2006 (International estimate)</td><td>Years</td><td>42</td><td>NA</td></tr>\n",
       "\t<tr><th scope=row>4</th><td>Afghanistan</td><td>Female</td><td>1985-1990</td><td>UNPD_World Population Prospects_2006 (International estimate)</td><td>Years</td><td>41</td><td>NA</td></tr>\n",
       "\t<tr><th scope=row>5</th><td>Afghanistan</td><td>Male  </td><td>2000-2005</td><td>UNPD_World Population Prospects_2006 (International estimate)</td><td>Years</td><td>42</td><td>NA</td></tr>\n",
       "\t<tr><th scope=row>6</th><td>Afghanistan</td><td>Male  </td><td>1995-2000</td><td>UNPD_World Population Prospects_2006 (International estimate)</td><td>Years</td><td>42</td><td>NA</td></tr>\n",
       "</tbody>\n",
       "</table>\n"
      ],
      "text/latex": [
       "A data.frame: 6 × 7\n",
       "\\begin{tabular}{r|lllllll}\n",
       "  & Country.or.Area & Subgroup & Year & Source & Unit & Value & Value.Footnotes\\\\\n",
       "  & <chr> & <chr> & <chr> & <chr> & <chr> & <int> & <int>\\\\\n",
       "\\hline\n",
       "\t1 & Afghanistan & Female & 2000-2005 & UNPD\\_World Population Prospects\\_2006 (International estimate) & Years & 42 & NA\\\\\n",
       "\t2 & Afghanistan & Female & 1995-2000 & UNPD\\_World Population Prospects\\_2006 (International estimate) & Years & 42 & NA\\\\\n",
       "\t3 & Afghanistan & Female & 1990-1995 & UNPD\\_World Population Prospects\\_2006 (International estimate) & Years & 42 & NA\\\\\n",
       "\t4 & Afghanistan & Female & 1985-1990 & UNPD\\_World Population Prospects\\_2006 (International estimate) & Years & 41 & NA\\\\\n",
       "\t5 & Afghanistan & Male   & 2000-2005 & UNPD\\_World Population Prospects\\_2006 (International estimate) & Years & 42 & NA\\\\\n",
       "\t6 & Afghanistan & Male   & 1995-2000 & UNPD\\_World Population Prospects\\_2006 (International estimate) & Years & 42 & NA\\\\\n",
       "\\end{tabular}\n"
      ],
      "text/markdown": [
       "\n",
       "A data.frame: 6 × 7\n",
       "\n",
       "| <!--/--> | Country.or.Area &lt;chr&gt; | Subgroup &lt;chr&gt; | Year &lt;chr&gt; | Source &lt;chr&gt; | Unit &lt;chr&gt; | Value &lt;int&gt; | Value.Footnotes &lt;int&gt; |\n",
       "|---|---|---|---|---|---|---|---|\n",
       "| 1 | Afghanistan | Female | 2000-2005 | UNPD_World Population Prospects_2006 (International estimate) | Years | 42 | NA |\n",
       "| 2 | Afghanistan | Female | 1995-2000 | UNPD_World Population Prospects_2006 (International estimate) | Years | 42 | NA |\n",
       "| 3 | Afghanistan | Female | 1990-1995 | UNPD_World Population Prospects_2006 (International estimate) | Years | 42 | NA |\n",
       "| 4 | Afghanistan | Female | 1985-1990 | UNPD_World Population Prospects_2006 (International estimate) | Years | 41 | NA |\n",
       "| 5 | Afghanistan | Male   | 2000-2005 | UNPD_World Population Prospects_2006 (International estimate) | Years | 42 | NA |\n",
       "| 6 | Afghanistan | Male   | 1995-2000 | UNPD_World Population Prospects_2006 (International estimate) | Years | 42 | NA |\n",
       "\n"
      ],
      "text/plain": [
       "  Country.or.Area Subgroup Year     \n",
       "1 Afghanistan     Female   2000-2005\n",
       "2 Afghanistan     Female   1995-2000\n",
       "3 Afghanistan     Female   1990-1995\n",
       "4 Afghanistan     Female   1985-1990\n",
       "5 Afghanistan     Male     2000-2005\n",
       "6 Afghanistan     Male     1995-2000\n",
       "  Source                                                        Unit  Value\n",
       "1 UNPD_World Population Prospects_2006 (International estimate) Years 42   \n",
       "2 UNPD_World Population Prospects_2006 (International estimate) Years 42   \n",
       "3 UNPD_World Population Prospects_2006 (International estimate) Years 42   \n",
       "4 UNPD_World Population Prospects_2006 (International estimate) Years 41   \n",
       "5 UNPD_World Population Prospects_2006 (International estimate) Years 42   \n",
       "6 UNPD_World Population Prospects_2006 (International estimate) Years 42   \n",
       "  Value.Footnotes\n",
       "1 NA             \n",
       "2 NA             \n",
       "3 NA             \n",
       "4 NA             \n",
       "5 NA             \n",
       "6 NA             "
      ]
     },
     "metadata": {},
     "output_type": "display_data"
    }
   ],
   "source": [
    "# This sets plot images to a nice size\n",
    "options(repr.plot.width = 6, repr.plot.height = 6)\n",
    "\n",
    "# Loading packages\n",
    "library(dplyr)\n",
    "library(tidyr)\n",
    "library(ggplot2)\n",
    "\n",
    "# Loading data\n",
    "life_expectancy <- read.csv('datasets/UNdata.csv')\n",
    "\n",
    "# Taking a look at the first few rows\n",
    "head(life_expectancy)"
   ]
  },
  {
   "cell_type": "markdown",
   "metadata": {
    "dc": {
     "key": "11"
    },
    "deletable": false,
    "editable": false,
    "run_control": {
     "frozen": true
    },
    "tags": [
     "context"
    ]
   },
   "source": [
    "## 2. Life expectancy of men vs. women by country\n",
    "<p>Let's manipulate the data to make our exploration easier. We will build the dataset for our first plot in which we will represent the average life expectancy of men and women across countries for the last period recorded in our data (2000-2005).</p>"
   ]
  },
  {
   "cell_type": "code",
   "execution_count": 3,
   "metadata": {
    "dc": {
     "key": "11"
    },
    "tags": [
     "sample_code"
    ]
   },
   "outputs": [
    {
     "data": {
      "text/html": [
       "<table class=\"dataframe\">\n",
       "<caption>A data.frame: 6 × 3</caption>\n",
       "<thead>\n",
       "\t<tr><th></th><th scope=col>Country.or.Area</th><th scope=col>Female</th><th scope=col>Male</th></tr>\n",
       "\t<tr><th></th><th scope=col>&lt;chr&gt;</th><th scope=col>&lt;int&gt;</th><th scope=col>&lt;int&gt;</th></tr>\n",
       "</thead>\n",
       "<tbody>\n",
       "\t<tr><th scope=row>1</th><td>Afghanistan</td><td>42</td><td>42</td></tr>\n",
       "\t<tr><th scope=row>2</th><td>Albania    </td><td>79</td><td>73</td></tr>\n",
       "\t<tr><th scope=row>3</th><td>Algeria    </td><td>72</td><td>70</td></tr>\n",
       "\t<tr><th scope=row>4</th><td>Angola     </td><td>43</td><td>39</td></tr>\n",
       "\t<tr><th scope=row>5</th><td>Argentina  </td><td>78</td><td>71</td></tr>\n",
       "\t<tr><th scope=row>6</th><td>Armenia    </td><td>75</td><td>68</td></tr>\n",
       "</tbody>\n",
       "</table>\n"
      ],
      "text/latex": [
       "A data.frame: 6 × 3\n",
       "\\begin{tabular}{r|lll}\n",
       "  & Country.or.Area & Female & Male\\\\\n",
       "  & <chr> & <int> & <int>\\\\\n",
       "\\hline\n",
       "\t1 & Afghanistan & 42 & 42\\\\\n",
       "\t2 & Albania     & 79 & 73\\\\\n",
       "\t3 & Algeria     & 72 & 70\\\\\n",
       "\t4 & Angola      & 43 & 39\\\\\n",
       "\t5 & Argentina   & 78 & 71\\\\\n",
       "\t6 & Armenia     & 75 & 68\\\\\n",
       "\\end{tabular}\n"
      ],
      "text/markdown": [
       "\n",
       "A data.frame: 6 × 3\n",
       "\n",
       "| <!--/--> | Country.or.Area &lt;chr&gt; | Female &lt;int&gt; | Male &lt;int&gt; |\n",
       "|---|---|---|---|\n",
       "| 1 | Afghanistan | 42 | 42 |\n",
       "| 2 | Albania     | 79 | 73 |\n",
       "| 3 | Algeria     | 72 | 70 |\n",
       "| 4 | Angola      | 43 | 39 |\n",
       "| 5 | Argentina   | 78 | 71 |\n",
       "| 6 | Armenia     | 75 | 68 |\n",
       "\n"
      ],
      "text/plain": [
       "  Country.or.Area Female Male\n",
       "1 Afghanistan     42     42  \n",
       "2 Albania         79     73  \n",
       "3 Algeria         72     70  \n",
       "4 Angola          43     39  \n",
       "5 Argentina       78     71  \n",
       "6 Armenia         75     68  "
      ]
     },
     "metadata": {},
     "output_type": "display_data"
    }
   ],
   "source": [
    "# Subset data for years 2000-2005, select columns, and reshape\n",
    "subdata <- life_expectancy %>%\n",
    "  filter(Year >= 2000 & Year <= 2005) %>%\n",
    "  select(Country.or.Area, Subgroup, Value) %>%\n",
    "  separate(Subgroup, into = c(\"Gender\"), sep = \", \") %>%\n",
    "  spread(Gender, Value)\n",
    "\n",
    "# Print first few rows of subdata\n",
    "head(subdata)"
   ]
  },
  {
   "cell_type": "markdown",
   "metadata": {
    "dc": {
     "key": "18"
    },
    "deletable": false,
    "editable": false,
    "run_control": {
     "frozen": true
    },
    "tags": [
     "context"
    ]
   },
   "source": [
    "## 3. Visualize I\n",
    "<p>A scatter plot is a useful way to visualize the relationship between two variables. It is a simple plot in which points are arranged on two axes, each of which represents one of those variables. </p>\n",
    "<p>Let's create a scatter plot using <code>ggplot2</code> to represent life expectancy of males (on the x-axis) against females (on the y-axis). We will create a straightforward plot in this task, without many details. We will take care of these kinds of things shortly.</p>"
   ]
  },
  {
   "cell_type": "code",
   "execution_count": 0,
   "metadata": {
    "collapsed": true,
    "dc": {
     "key": "18"
    },
    "tags": [
     "sample_code"
    ]
   },
   "outputs": [],
   "source": [
    "# Plotting male and female life expectancy\n",
    "# .... YOUR CODE FOR TASK 3 ....\n",
    "# .... YOUR CODE FOR TASK 3 ...."
   ]
  },
  {
   "cell_type": "markdown",
   "metadata": {
    "dc": {
     "key": "25"
    },
    "deletable": false,
    "editable": false,
    "run_control": {
     "frozen": true
    },
    "tags": [
     "context"
    ]
   },
   "source": [
    "## 4. Reference lines I\n",
    "<p>A good plot must be easy to understand. There are many tools in <code>ggplot2</code> to achieve this goal and we will explore some of them now. Starting from the previous plot, let's set the same limits for both axes as well as place a diagonal line for reference. After doing this, the difference between men and women across countries will be easier to interpret.</p>\n",
    "<p>After completing this task, we will see how most of the points are arranged above the diagonal and how there is a significant dispersion among them. What does this all mean?</p>"
   ]
  },
  {
   "cell_type": "code",
   "execution_count": 0,
   "metadata": {
    "collapsed": true,
    "dc": {
     "key": "25"
    },
    "tags": [
     "sample_code"
    ]
   },
   "outputs": [],
   "source": [
    "# Adding an abline and changing the scale of axes of the previous plots\n",
    "# .... SOLUTION CODE FROM TASK 3 ....\n",
    "# .... YOUR CODE FOR TASK 4 ....\n",
    "# .... YOUR CODE FOR TASK 4 ....\n",
    "# .... YOUR CODE FOR TASK 4 ...."
   ]
  },
  {
   "cell_type": "markdown",
   "metadata": {
    "dc": {
     "key": "32"
    },
    "deletable": false,
    "editable": false,
    "run_control": {
     "frozen": true
    },
    "tags": [
     "context"
    ]
   },
   "source": [
    "## 5. Plot titles and axis labels\n",
    "<p>A key point to make a plot understandable is placing clear labels on it. Let's add titles, axis labels, and a caption to refer to the source of data. Let's also change the appearance to make it clearer.</p>"
   ]
  },
  {
   "cell_type": "code",
   "execution_count": 0,
   "metadata": {
    "collapsed": true,
    "dc": {
     "key": "32"
    },
    "tags": [
     "sample_code"
    ]
   },
   "outputs": [],
   "source": [
    "# Adding labels to previous plot\n",
    "ggplot(subdata, aes(x=Male, y=Female))+\n",
    "  geom_point(colour=\"white\", fill=\"chartreuse3\", shape=21, alpha=.55, size=5)+\n",
    "  geom_abline(intercept = 0, slope = 1, linetype=2)+\n",
    "  scale_x_continuous(limits=c(35,85))+\n",
    "  scale_y_continuous(limits=c(35,85))+\n",
    "  labs(title=....,\n",
    "       subtitle=\"Years. Period: 2000-2005. Average.\",\n",
    "       caption=....,\n",
    "       x=....,\n",
    "       y=....)"
   ]
  },
  {
   "cell_type": "markdown",
   "metadata": {
    "dc": {
     "key": "39"
    },
    "deletable": false,
    "editable": false,
    "run_control": {
     "frozen": true
    },
    "tags": [
     "context"
    ]
   },
   "source": [
    "## 6. Highlighting remarkable countries I\n",
    "<p>Now, we will label some points of our plot with the name of its corresponding country. We want to draw attention to some special countries where the gap in life expectancy between men and women is significantly high. These will be the final touches on this first plot.</p>"
   ]
  },
  {
   "cell_type": "code",
   "execution_count": 0,
   "metadata": {
    "collapsed": true,
    "dc": {
     "key": "39"
    },
    "tags": [
     "sample_code"
    ]
   },
   "outputs": [],
   "source": [
    "# Subseting data to obtain countries of interest\n",
    "top_male <- subdata %>% arrange(Male-Female) %>% head(3)\n",
    "top_female <- subdata %>% arrange(Female-Male) %>% head(3)\n",
    "\n",
    "# Adding text to the previous plot to label countries of interest\n",
    "ggplot(subdata, aes(x=Male, y=Female, ....))+\n",
    "  geom_point(colour=\"white\", fill=\"chartreuse3\", shape=21, alpha=.55, size=5)+\n",
    "  geom_abline(intercept = 0, slope = 1, linetype=2)+\n",
    "  scale_x_continuous(limits=c(35,85))+\n",
    "  scale_y_continuous(limits=c(35,85))+\n",
    "  labs(title=\"Life Expectancy at Birth by Country\",\n",
    "       subtitle=\"Years. Period: 2000-2005. Average.\",\n",
    "       caption=\"Source: United Nations Statistics Division\",\n",
    "       x=\"Males\",\n",
    "       y=\"Females\")+\n",
    "# .... YOUR CODE FOR TASK 6 ....\n",
    "# .... YOUR CODE FOR TASK 6 ....\n",
    "# .... YOUR CODE FOR TASK 6 ...."
   ]
  },
  {
   "cell_type": "markdown",
   "metadata": {
    "dc": {
     "key": "46"
    },
    "deletable": false,
    "editable": false,
    "run_control": {
     "frozen": true
    },
    "tags": [
     "context"
    ]
   },
   "source": [
    "## 7. How has life expectancy by gender evolved?\n",
    "<p>Since our data contains historical information, let's see now how life expectancy has evolved in recent years. Our second plot will represent the difference between men and women across countries between two periods: 2000-2005 and 1985-1990.</p>\n",
    "<p>Let's start building a dataset called <code>subdata2</code> for our second plot. </p>"
   ]
  },
  {
   "cell_type": "code",
   "execution_count": 0,
   "metadata": {
    "collapsed": true,
    "dc": {
     "key": "46"
    },
    "tags": [
     "sample_code"
    ]
   },
   "outputs": [],
   "source": [
    "# Subsetting, mutating and reshaping the life expectancy data\n",
    "subdata2 <- life_expectancy %>% \n",
    "  filter(Year %in% c(\"1985-1990\", \"2000-2005\")) %>% \n",
    "  mutate(Sub_Year=paste(Subgroup, Year, sep=\"_\")) %>% \n",
    "  mutate(Sub_Year=gsub(\"-\", \"_\", Sub_Year)) %>% \n",
    "  select(-Subgroup, -Year) %>% \n",
    "# .... YOUR CODE FOR TASK 7 ....\n",
    "# .... YOUR CODE FOR TASK 7 ....\n",
    "# .... YOUR CODE FOR TASK 7 ....\n",
    "\n",
    "# Taking a look at the first few rows\n",
    "# .... YOUR CODE FOR TASK 7 ...."
   ]
  },
  {
   "cell_type": "markdown",
   "metadata": {
    "dc": {
     "key": "53"
    },
    "deletable": false,
    "editable": false,
    "run_control": {
     "frozen": true
    },
    "tags": [
     "context"
    ]
   },
   "source": [
    "## 8. Visualize II\n",
    "<p>Now let's create our second plot in which we will represent average life expectancy differences between \"1985-1990\" and \"2000-2005\" for men and women.</p>"
   ]
  },
  {
   "cell_type": "code",
   "execution_count": 0,
   "metadata": {
    "collapsed": true,
    "dc": {
     "key": "53"
    },
    "tags": [
     "sample_code"
    ]
   },
   "outputs": [],
   "source": [
    "# Doing a nice first version of the plot with abline, scaling axis and adding labels\n",
    "ggplot(subdata2, aes(x=...., y=...., label=Country.or.Area))+\n",
    "  geom_point(colour=\"white\", fill=\"chartreuse3\", shape=21, alpha=.55, size=5)+\n",
    "  geom_abline(intercept = 0, slope = 1, linetype=2)+\n",
    "# .... YOUR CODE FOR TASK 8 ....\n",
    "# .... YOUR CODE FOR TASK 8 ....\n",
    "  labs(title=\"Life Expectancy at Birth by Country in Years\",\n",
    "       subtitle=\"Difference between 1985-1990 and 2000-2005. Average.\",\n",
    "       caption=\"Source: United Nations Statistics Division\",\n",
    "       x=\"Males\",\n",
    "       y=\"Females\")+\n",
    "theme_bw()"
   ]
  },
  {
   "cell_type": "markdown",
   "metadata": {
    "dc": {
     "key": "60"
    },
    "deletable": false,
    "editable": false,
    "run_control": {
     "frozen": true
    },
    "tags": [
     "context"
    ]
   },
   "source": [
    "## 9. Reference lines II\n",
    "<p>Adding reference lines can make plots easier to understand. We already added a diagonal line to visualize differences between men and women more clearly. Now we will add two more lines to help to identify in which countries people increased or decreased their life expectancy in the period analyzed.</p>"
   ]
  },
  {
   "cell_type": "code",
   "execution_count": 0,
   "metadata": {
    "collapsed": true,
    "dc": {
     "key": "60"
    },
    "tags": [
     "sample_code"
    ]
   },
   "outputs": [],
   "source": [
    "# Adding an hline and vline to previous plots\n",
    "ggplot(subdata2, aes(x=diff_Male, y=diff_Female, label=Country.or.Area))+\n",
    "  geom_point(colour=\"white\", fill=\"chartreuse3\", shape=21, alpha=.55, size=5)+\n",
    "  geom_abline(intercept = 0, slope = 1, linetype=2)+\n",
    "  scale_x_continuous(limits=c(-25,25))+\n",
    "  scale_y_continuous(limits=c(-25,25))+\n",
    "# .... YOUR CODE FOR TASK 9 ....\n",
    "# .... YOUR CODE FOR TASK 9 ....\n",
    "  labs(title=\"Life Expectancy at Birth by Country\",\n",
    "       subtitle=\"Years. Difference between 1985-1990 and 2000-2005. Average.\",\n",
    "       caption=\"Source: United Nations Statistics Division\",\n",
    "       x=\"Males\",\n",
    "       y=\"Females\")+\n",
    "theme_bw()"
   ]
  },
  {
   "cell_type": "markdown",
   "metadata": {
    "dc": {
     "key": "67"
    },
    "deletable": false,
    "editable": false,
    "run_control": {
     "frozen": true
    },
    "tags": [
     "context"
    ]
   },
   "source": [
    "## 10. Highlighting remarkable countries II\n",
    "<p>As we did in the first plot, let's label some points. Concretely, we will point those three where the aggregated average life expectancy for men and women increased most and those three where decreased most in the period.</p>"
   ]
  },
  {
   "cell_type": "code",
   "execution_count": 0,
   "metadata": {
    "collapsed": true,
    "dc": {
     "key": "67"
    },
    "tags": [
     "sample_code"
    ]
   },
   "outputs": [],
   "source": [
    "# Subseting data to obtain countries of interest\n",
    "top <- subdata2 %>% arrange(diff_Male+diff_Female) %>% head(3)\n",
    "bottom <- ....\n",
    "\n",
    "# Adding text to the previous plot to label countries of interest\n",
    "ggplot(subdata2, aes(x=diff_Male, y=diff_Female, label=Country.or.Area), guide=FALSE)+\n",
    "  geom_point(colour=\"white\", fill=\"chartreuse3\", shape=21, alpha=.55, size=5)+\n",
    "  geom_abline(intercept = 0, slope = 1, linetype=2)+\n",
    "  scale_x_continuous(limits=c(-25,25))+\n",
    "  scale_y_continuous(limits=c(-25,25))+\n",
    "  geom_hline(yintercept=0, linetype=2)+\n",
    "  geom_vline(xintercept=0, linetype=2)+\n",
    "  labs(title=\"Life Expectancy at Birth by Country\",\n",
    "       subtitle=\"Years. Difference between 1985-1990 and 2000-2005. Average.\",\n",
    "       caption=\"Source: United Nations Statistics Division\",\n",
    "       x=\"Males\",\n",
    "       y=\"Females\")+\n",
    "# .... YOUR CODE FOR TASK 10 ....\n",
    "# .... YOUR CODE FOR TASK 10 ....\n",
    "  theme_bw()"
   ]
  }
 ],
 "metadata": {
  "kernelspec": {
   "display_name": "R",
   "language": "R",
   "name": "ir"
  },
  "language_info": {
   "codemirror_mode": "r",
   "file_extension": ".r",
   "mimetype": "text/x-r-source",
   "name": "R",
   "pygments_lexer": "r",
   "version": "4.2.3"
  }
 },
 "nbformat": 4,
 "nbformat_minor": 2
}
